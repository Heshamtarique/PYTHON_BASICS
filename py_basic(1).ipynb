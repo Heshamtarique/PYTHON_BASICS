{
 "cells": [
  {
   "cell_type": "markdown",
   "metadata": {},
   "source": [
    "### LISTS"
   ]
  },
  {
   "cell_type": "code",
   "execution_count": 1,
   "metadata": {},
   "outputs": [],
   "source": [
    "list = []"
   ]
  },
  {
   "cell_type": "code",
   "execution_count": 3,
   "metadata": {},
   "outputs": [],
   "source": [
    "list.append(4)"
   ]
  },
  {
   "cell_type": "code",
   "execution_count": 4,
   "metadata": {},
   "outputs": [
    {
     "name": "stdout",
     "output_type": "stream",
     "text": [
      "[4]\n"
     ]
    }
   ],
   "source": [
    "print(list)"
   ]
  },
  {
   "cell_type": "code",
   "execution_count": 6,
   "metadata": {},
   "outputs": [
    {
     "name": "stdout",
     "output_type": "stream",
     "text": [
      "[4, 4, 10.5]\n"
     ]
    }
   ],
   "source": [
    "list.append(10.5)\n",
    "print(list)"
   ]
  },
  {
   "cell_type": "code",
   "execution_count": 8,
   "metadata": {},
   "outputs": [
    {
     "name": "stdout",
     "output_type": "stream",
     "text": [
      "[4, 4, 10.5, 'hey bro', 'hey bro']\n"
     ]
    }
   ],
   "source": [
    "list.append(\"hey bro\")\n",
    "print(list)"
   ]
  },
  {
   "cell_type": "code",
   "execution_count": 11,
   "metadata": {},
   "outputs": [
    {
     "name": "stdout",
     "output_type": "stream",
     "text": [
      "enter the first number10\n",
      "enter secind nummber20\n",
      "the product of the number is: 200\n"
     ]
    }
   ],
   "source": [
    "num1 = int(input(\"enter the first number\"))\n",
    "num2 = int(input(\"enter secind nummber\"))\n",
    "num3 = num1*num2\n",
    "print(\"the product of the number is:\", num3)"
   ]
  },
  {
   "cell_type": "code",
   "execution_count": 13,
   "metadata": {},
   "outputs": [
    {
     "name": "stdout",
     "output_type": "stream",
     "text": [
      "how you gonna face amma abba\n"
     ]
    }
   ],
   "source": [
    "num1 = 30\n",
    "if num1 > 35:\n",
    "    print(\"marook: u r pass\")\n",
    "elif num1 > 80:\n",
    "    print(\"awesome bro\")\n",
    "else:\n",
    "    print(\"how you gonna face amma abba\")"
   ]
  },
  {
   "cell_type": "code",
   "execution_count": 14,
   "metadata": {},
   "outputs": [
    {
     "name": "stdout",
     "output_type": "stream",
     "text": [
      "hello\n",
      "hii world\n"
     ]
    }
   ],
   "source": [
    "def hello():\n",
    "    print(\"hello\")\n",
    "    print(\"hii world\")\n",
    "hello()"
   ]
  },
  {
   "cell_type": "code",
   "execution_count": 15,
   "metadata": {},
   "outputs": [
    {
     "name": "stdout",
     "output_type": "stream",
     "text": [
      "hello\n"
     ]
    }
   ],
   "source": [
    "def hello():\n",
    "    print(\"hello\")\n",
    "hello()"
   ]
  },
  {
   "cell_type": "code",
   "execution_count": 16,
   "metadata": {},
   "outputs": [
    {
     "name": "stdout",
     "output_type": "stream",
     "text": [
      "0\n",
      "1\n",
      "2\n",
      "3\n",
      "4\n",
      "5\n",
      "6\n",
      "7\n",
      "8\n",
      "9\n"
     ]
    }
   ],
   "source": [
    "for counting in range(10):\n",
    "    print(counting)"
   ]
  },
  {
   "cell_type": "code",
   "execution_count": 19,
   "metadata": {},
   "outputs": [
    {
     "name": "stdout",
     "output_type": "stream",
     "text": [
      "Enter a number: 10.3\n",
      "10.3\n"
     ]
    }
   ],
   "source": [
    "import math \n",
    "  \n",
    "def Main(): \n",
    "    num = float(input(\"Enter a number: \")) \n",
    "  \n",
    "    # fabs is used to get the absolute value of a decimal \n",
    "    num = math.fabs(num)  \n",
    "    print(num) \n",
    "if __name__==\"__main__\": \n",
    "    Main() "
   ]
  },
  {
   "cell_type": "code",
   "execution_count": 3,
   "metadata": {},
   "outputs": [
    {
     "name": "stdout",
     "output_type": "stream",
     "text": [
      "attempt\n",
      "attempt\n",
      "attempt\n"
     ]
    }
   ],
   "source": [
    "# if we want to allow 3 attempts for entering password\n",
    "for number in range(3):\n",
    "    print(\"attempt\")\n"
   ]
  },
  {
   "cell_type": "code",
   "execution_count": 5,
   "metadata": {},
   "outputs": [
    {
     "name": "stdout",
     "output_type": "stream",
     "text": [
      "attempt 1\n",
      "attempt 2\n",
      "attempt 3\n"
     ]
    }
   ],
   "source": [
    "# if we want to allow 3 attempts for entering password in ATM\n",
    "for number in range(1,4):\n",
    "    print(\"attempt\", number)"
   ]
  },
  {
   "cell_type": "code",
   "execution_count": 6,
   "metadata": {},
   "outputs": [
    {
     "name": "stdout",
     "output_type": "stream",
     "text": [
      "attempt 1\n",
      "attempt 2\n",
      "attempt 3\n"
     ]
    }
   ],
   "source": [
    "for number in range(3):\n",
    "    print(\"attempt\", number+1)"
   ]
  },
  {
   "cell_type": "code",
   "execution_count": 8,
   "metadata": {},
   "outputs": [
    {
     "name": "stdout",
     "output_type": "stream",
     "text": [
      "your attempt no: 0\n",
      "your attempt no: 1\n",
      "your attempt no: 2\n"
     ]
    }
   ],
   "source": [
    "for number in range(3):\n",
    "    print(\"your attempt no:\", number)"
   ]
  },
  {
   "cell_type": "code",
   "execution_count": 9,
   "metadata": {},
   "outputs": [
    {
     "name": "stdout",
     "output_type": "stream",
     "text": [
      "your attempt no: 1 .\n",
      "your attempt no: 2 ..\n",
      "your attempt no: 3 ...\n"
     ]
    }
   ],
   "source": [
    "for number in range(3):\n",
    "    print(\"your attempt no:\", number+1,( number+1)*\".\")"
   ]
  },
  {
   "cell_type": "code",
   "execution_count": 10,
   "metadata": {},
   "outputs": [
    {
     "name": "stdout",
     "output_type": "stream",
     "text": [
      "your attempt no: 1 .\n",
      "your attempt no: 2 ..\n",
      "your attempt no: 3 ...\n"
     ]
    }
   ],
   "source": [
    "for number in range(1,4):\n",
    "    print(\"your attempt no:\", number,(number)*\".\")"
   ]
  },
  {
   "cell_type": "code",
   "execution_count": 12,
   "metadata": {},
   "outputs": [
    {
     "name": "stdout",
     "output_type": "stream",
     "text": [
      "1\n",
      "3\n",
      "5\n",
      "7\n",
      "9\n"
     ]
    }
   ],
   "source": [
    "for number in range(1,10,2):\n",
    "    print(number)"
   ]
  },
  {
   "cell_type": "code",
   "execution_count": 13,
   "metadata": {},
   "outputs": [
    {
     "name": "stdout",
     "output_type": "stream",
     "text": [
      "1 .\n",
      "3 ...\n",
      "5 .....\n",
      "7 .......\n",
      "9 .........\n"
     ]
    }
   ],
   "source": [
    "for number in range(1,10,2):\n",
    "    print(number, (number)* \".\")"
   ]
  },
  {
   "cell_type": "code",
   "execution_count": 16,
   "metadata": {},
   "outputs": [
    {
     "name": "stdout",
     "output_type": "stream",
     "text": [
      "\n",
      ".\n",
      "..\n",
      "...\n",
      "....\n",
      ".....\n"
     ]
    }
   ],
   "source": [
    "# WOW just clicked in mind that in this way we can print a triangle\n",
    "for dots in range(6):\n",
    "    print((dots)*\".\")"
   ]
  },
  {
   "cell_type": "code",
   "execution_count": 20,
   "metadata": {},
   "outputs": [
    {
     "name": "stdout",
     "output_type": "stream",
     "text": [
      "attempt number 1\n",
      "attempt number 2\n",
      "attempt number 3\n"
     ]
    }
   ],
   "source": [
    "#after the correct password we want to jump out of the loop.send a ssucsseful msg\n",
    "successful = False\n",
    "for number in range(1,4):\n",
    "    print(\"attempt number\", number)\n",
    "    if successful:\n",
    "        print(\"successful\")\n",
    "        break"
   ]
  },
  {
   "cell_type": "code",
   "execution_count": 21,
   "metadata": {},
   "outputs": [
    {
     "name": "stdout",
     "output_type": "stream",
     "text": [
      "attempt number 1\n",
      "successful\n"
     ]
    }
   ],
   "source": [
    "successful = True\n",
    "for number in range(1,4):\n",
    "    print(\"attempt number\", number)\n",
    "    if successful:\n",
    "        print(\"successful\")\n",
    "        break"
   ]
  },
  {
   "cell_type": "code",
   "execution_count": 23,
   "metadata": {},
   "outputs": [
    {
     "name": "stdout",
     "output_type": "stream",
     "text": [
      "attempt number 1\n",
      "attempt number 2\n",
      "attempt number 3\n",
      "attempted 3 times and failed\n"
     ]
    }
   ],
   "source": [
    "successful = False\n",
    "for number in range(1,4):\n",
    "    print(\"attempt number\", number)\n",
    "    if successful:\n",
    "        print(\"successful\")\n",
    "        break\n",
    "else:\n",
    "    print(\"attempted 3 times and failed\")"
   ]
  },
  {
   "cell_type": "code",
   "execution_count": 24,
   "metadata": {},
   "outputs": [
    {
     "name": "stdout",
     "output_type": "stream",
     "text": [
      "attempt number 1\n",
      "successful\n"
     ]
    }
   ],
   "source": [
    "successful = True\n",
    "for number in range(1,4):\n",
    "    print(\"attempt number\", number)\n",
    "    if successful:\n",
    "        print(\"successful\")\n",
    "        break\n",
    "else:\n",
    "    print(\"attempted 3 times and failed\")"
   ]
  },
  {
   "cell_type": "code",
   "execution_count": 26,
   "metadata": {},
   "outputs": [
    {
     "name": "stdout",
     "output_type": "stream",
     "text": [
      "(1,1)\n",
      "(1,2)\n",
      "(1,3)\n",
      "(2,1)\n",
      "(2,2)\n",
      "(2,3)\n",
      "(3,1)\n",
      "(3,2)\n",
      "(3,3)\n",
      "(4,1)\n",
      "(4,2)\n",
      "(4,3)\n"
     ]
    }
   ],
   "source": [
    " #  NESTED LOOP.\n",
    "    for x in range(1,5):\n",
    "    for y in range(1,4):\n",
    "        print(f\"({x},{y})\") \n",
    "\n",
    "#first x will be 1. interpreter goes inside of the second loop and its value will be one. \n",
    "#the second loop has a print statement inside so it will print(1,1). again the interpreter will go to the second loop the value becomes 2-x will be same(1,2). again (1,3). \n",
    "#now the interpreter will come out of the 2nd loop and will go to the 1st loop. this will go till end. see answer to understand it clearly."
   ]
  },
  {
   "cell_type": "code",
   "execution_count": 27,
   "metadata": {},
   "outputs": [
    {
     "name": "stdout",
     "output_type": "stream",
     "text": [
      "<class 'int'>\n"
     ]
    }
   ],
   "source": [
    " print(type(5))"
   ]
  },
  {
   "cell_type": "code",
   "execution_count": 29,
   "metadata": {},
   "outputs": [
    {
     "name": "stdout",
     "output_type": "stream",
     "text": [
      "<class 'range'>\n"
     ]
    }
   ],
   "source": [
    "print(type(range(5)))\n",
    "\n",
    "\n",
    "#so, this return object of type range. therefore, python has \n",
    "#primitive(strings,numbers, booleans)and complex type(range,list etc)"
   ]
  },
  {
   "cell_type": "code",
   "execution_count": 31,
   "metadata": {},
   "outputs": [
    {
     "name": "stdout",
     "output_type": "stream",
     "text": [
      "p\n",
      "y\n",
      "t\n",
      "h\n",
      "o\n",
      "n\n"
     ]
    }
   ],
   "source": [
    "#the above programe(range wala) is iterable but strings can also be itrated\n",
    "for x in (\"python\"):\n",
    "    print(x)\n"
   ]
  },
  {
   "cell_type": "code",
   "execution_count": null,
   "metadata": {},
   "outputs": [],
   "source": []
  }
 ],
 "metadata": {
  "kernelspec": {
   "display_name": "Python 3",
   "language": "python",
   "name": "python3"
  },
  "language_info": {
   "codemirror_mode": {
    "name": "ipython",
    "version": 3
   },
   "file_extension": ".py",
   "mimetype": "text/x-python",
   "name": "python",
   "nbconvert_exporter": "python",
   "pygments_lexer": "ipython3",
   "version": "3.7.4"
  }
 },
 "nbformat": 4,
 "nbformat_minor": 2
}
