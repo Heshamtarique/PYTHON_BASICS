{
  "nbformat": 4,
  "nbformat_minor": 0,
  "metadata": {
    "colab": {
      "name": "pythonBasic(2).ipynb",
      "provenance": []
    },
    "kernelspec": {
      "name": "python3",
      "display_name": "Python 3"
    }
  },
  "cells": [
    {
      "cell_type": "code",
      "metadata": {
        "colab": {
          "base_uri": "https://localhost:8080/"
        },
        "id": "cYiQqVEgWHcD",
        "outputId": "dc39488e-71a5-4221-dd33-bba206a6782d"
      },
      "source": [
        "# if we want to get something several times\n",
        "print(\"*\"*10)       "
      ],
      "execution_count": null,
      "outputs": [
        {
          "output_type": "stream",
          "text": [
            "**********\n"
          ],
          "name": "stdout"
        }
      ]
    },
    {
      "cell_type": "markdown",
      "metadata": {
        "id": "ug-rNKEEZVFQ"
      },
      "source": [
        "  Expression is a peice of code that produces a piece of value, when the python intrepereter tries to produce this code then this will first solve the expression. - \"*\"*10. so 10 astericks will be created. "
      ]
    },
    {
      "cell_type": "code",
      "metadata": {
        "id": "PJ-tUKmGaRh4"
      },
      "source": [
        "rating = 4.9   # floatong.  "
      ],
      "execution_count": null,
      "outputs": []
    },
    {
      "cell_type": "code",
      "metadata": {
        "colab": {
          "base_uri": "https://localhost:8080/"
        },
        "id": "HR-w0YasqHpR",
        "outputId": "23d0c4ca-4ce1-4fc0-cd5d-96f0e99ab75a"
      },
      "source": [
        "print(rating)"
      ],
      "execution_count": null,
      "outputs": [
        {
          "output_type": "stream",
          "text": [
            "4.9\n"
          ],
          "name": "stdout"
        }
      ]
    },
    {
      "cell_type": "code",
      "metadata": {
        "id": "yPWe4UNeqN7I"
      },
      "source": [
        "# boolean (true or false) we use underscore to separate the words and we alwasys use small letters\n",
        "is_published = True"
      ],
      "execution_count": null,
      "outputs": []
    },
    {
      "cell_type": "code",
      "metadata": {
        "colab": {
          "base_uri": "https://localhost:8080/"
        },
        "id": "9sjkOJRhqmy9",
        "outputId": "8d3df836-4ac4-4636-860a-8cb876e148ad"
      },
      "source": [
        "print(is_published)"
      ],
      "execution_count": null,
      "outputs": [
        {
          "output_type": "stream",
          "text": [
            "True\n"
          ],
          "name": "stdout"
        }
      ]
    },
    {
      "cell_type": "code",
      "metadata": {
        "colab": {
          "base_uri": "https://localhost:8080/"
        },
        "id": "kqj5ETwSqs2x",
        "outputId": "fca8e5d0-977d-4e2f-a7dc-52a112417726"
      },
      "source": [
        "name = 'john smith'\n",
        "age = 20\n",
        "if name == 'john smith':\n",
        "  print('not a new patient')\n",
        "else:\n",
        "  print('new admission')"
      ],
      "execution_count": null,
      "outputs": [
        {
          "output_type": "stream",
          "text": [
            "not a new patient\n"
          ],
          "name": "stdout"
        }
      ]
    },
    {
      "cell_type": "code",
      "metadata": {
        "id": "vS0D4f9as7vM"
      },
      "source": [
        "name = 'john smith'\n",
        "age = 20\n",
        "is_new = True"
      ],
      "execution_count": null,
      "outputs": []
    },
    {
      "cell_type": "code",
      "metadata": {
        "colab": {
          "base_uri": "https://localhost:8080/"
        },
        "id": "-cU7WEnJtN59",
        "outputId": "99341c5d-dec1-4fea-ac63-a3ed29804ffd"
      },
      "source": [
        "# how to recieve input from the user and print greeting msg\n",
        "   \n",
        "# in built function, this will take input and we can save that in some variable\n",
        "\n",
        "name = input('what is your name? ')\n",
        "print('Hi '+name)\n"
      ],
      "execution_count": null,
      "outputs": [
        {
          "output_type": "stream",
          "text": [
            "what is your name? Hesham\n",
            "Hi Hesham\n"
          ],
          "name": "stdout"
        }
      ]
    },
    {
      "cell_type": "code",
      "metadata": {
        "colab": {
          "base_uri": "https://localhost:8080/"
        },
        "id": "y31berGXwzmK",
        "outputId": "7b233109-881c-4ae6-96b6-2691bf80230f"
      },
      "source": [
        "name = input('what is your name ')\n",
        "fav_Color = input('what is yor favourite color ')\n",
        "print(name + ' likes '+ fav_Color) # NOTE:variable should not be in quotes and concatenete everything"
      ],
      "execution_count": null,
      "outputs": [
        {
          "output_type": "stream",
          "text": [
            "what is your name hesham\n",
            "what is yor favourite color red\n",
            "hesham likes red\n"
          ],
          "name": "stdout"
        }
      ]
    },
    {
      "cell_type": "code",
      "metadata": {
        "colab": {
          "base_uri": "https://localhost:8080/"
        },
        "id": "cHhZWZgbx5Gs",
        "outputId": "25409eda-b28a-42d1-d673-a8309ff5795e"
      },
      "source": [
        "# ask year of birth and calculate the age\n",
        "\n",
        "birth = input('what is your birth year bro? ')\n",
        "# age = ('2021' - birth)   #  we need to convert birth into string so that python may be able to subtract these 2 numbers\n",
        "age = (2021 - int(birth))\n",
        "print('your age is: '+ str(age))"
      ],
      "execution_count": null,
      "outputs": [
        {
          "output_type": "stream",
          "text": [
            "what is your birth year bro? 1994\n",
            "your age is: 27\n"
          ],
          "name": "stdout"
        }
      ]
    },
    {
      "cell_type": "code",
      "metadata": {
        "id": "ljr-anUX0zXt",
        "colab": {
          "base_uri": "https://localhost:8080/"
        },
        "outputId": "c49564c0-4316-4e7d-eb11-b8d2f4ee313e"
      },
      "source": [
        "# ask a user its height in feet and convert it into inches \n",
        "height_feet = input(\"enter your height: \")\n",
        "height_inches = 12 * int(height_feet)\n",
        "print(height_inches)"
      ],
      "execution_count": 9,
      "outputs": [
        {
          "output_type": "stream",
          "text": [
            "enter your height: 6\n",
            "72\n"
          ],
          "name": "stdout"
        }
      ]
    },
    {
      "cell_type": "code",
      "metadata": {
        "colab": {
          "base_uri": "https://localhost:8080/"
        },
        "id": "eGUhZXWzgNM3",
        "outputId": "0b472e5d-775b-4f70-fc35-a373f513eeed"
      },
      "source": [
        "# single and double quote\n",
        "course = 'python for hesham'\n",
        "print(course)"
      ],
      "execution_count": 11,
      "outputs": [
        {
          "output_type": "stream",
          "text": [
            "python for hesham\n"
          ],
          "name": "stdout"
        }
      ]
    },
    {
      "cell_type": "code",
      "metadata": {
        "colab": {
          "base_uri": "https://localhost:8080/"
        },
        "id": "p7HKQKDvhtNK",
        "outputId": "6e6dfd59-214f-40d1-d54a-9b6af30ae56e"
      },
      "source": [
        "course = \"hesham's python\"\n",
        "print(course)"
      ],
      "execution_count": 14,
      "outputs": [
        {
          "output_type": "stream",
          "text": [
            "hesham's python\n"
          ],
          "name": "stdout"
        }
      ]
    },
    {
      "cell_type": "code",
      "metadata": {
        "colab": {
          "base_uri": "https://localhost:8080/"
        },
        "id": "1YM58kLeh4t1",
        "outputId": "29556871-d2f4-4f74-a4e2-faa303ecccbf"
      },
      "source": [
        "# use tripple quote for multiple line inputs\n",
        "mail = '''hi hesham, how you doing, i am well hope you doing fine- hesham's mail'''\n",
        "print(mail)\n"
      ],
      "execution_count": 16,
      "outputs": [
        {
          "output_type": "stream",
          "text": [
            "hi hesham, how you doing, i am well hope you doing fine- hesham's mail\n"
          ],
          "name": "stdout"
        }
      ]
    },
    {
      "cell_type": "code",
      "metadata": {
        "colab": {
          "base_uri": "https://localhost:8080/"
        },
        "id": "TxtBPzJFijKX",
        "outputId": "85b76784-c3ce-4f7b-abc3-e80f1d088530"
      },
      "source": [
        "print(mail[0])"
      ],
      "execution_count": 17,
      "outputs": [
        {
          "output_type": "stream",
          "text": [
            "h\n"
          ],
          "name": "stdout"
        }
      ]
    },
    {
      "cell_type": "code",
      "metadata": {
        "colab": {
          "base_uri": "https://localhost:8080/"
        },
        "id": "NnqhQn_QiuSR",
        "outputId": "4e7afc94-484b-4f85-fe6b-a4e3413665e7"
      },
      "source": [
        "print(mail[-1])"
      ],
      "execution_count": 18,
      "outputs": [
        {
          "output_type": "stream",
          "text": [
            "l\n"
          ],
          "name": "stdout"
        }
      ]
    },
    {
      "cell_type": "code",
      "metadata": {
        "colab": {
          "base_uri": "https://localhost:8080/"
        },
        "id": "CCvDLtNMi5do",
        "outputId": "353376cb-53a2-42fb-ad87-d5337bc9613e"
      },
      "source": [
        "print(mail[0:10])"
      ],
      "execution_count": 20,
      "outputs": [
        {
          "output_type": "stream",
          "text": [
            "hi hesham,\n"
          ],
          "name": "stdout"
        }
      ]
    },
    {
      "cell_type": "code",
      "metadata": {
        "colab": {
          "base_uri": "https://localhost:8080/"
        },
        "id": "F5XqeHhLi76J",
        "outputId": "73173a53-43b6-4bbc-f8cc-575b7fac3312"
      },
      "source": [
        "print(mail[1:20])"
      ],
      "execution_count": 22,
      "outputs": [
        {
          "output_type": "stream",
          "text": [
            "i hesham, how you d\n"
          ],
          "name": "stdout"
        }
      ]
    },
    {
      "cell_type": "code",
      "metadata": {
        "colab": {
          "base_uri": "https://localhost:8080/"
        },
        "id": "r9ltaFl7jJfa",
        "outputId": "eafb3322-89b1-4984-eabd-ac13c032ad5a"
      },
      "source": [
        "print(mail[1:-1])"
      ],
      "execution_count": 23,
      "outputs": [
        {
          "output_type": "stream",
          "text": [
            "i hesham, how you doing, i am well hope you doing fine- hesham's mai\n"
          ],
          "name": "stdout"
        }
      ]
    },
    {
      "cell_type": "code",
      "metadata": {
        "colab": {
          "base_uri": "https://localhost:8080/"
        },
        "id": "R5T85Ulijc3-",
        "outputId": "be9becee-6571-4184-84e3-519ff588de74"
      },
      "source": [
        "# FORMATTED STRINGS--- If we want to print hesham tarique will a [coder]\n",
        "first = 'hesham'\n",
        "last = 'tarique'\n",
        "\n",
        "print(first + ' ' + last +' '+ 'will '+ 'be a ' + '['+ 'coder'+ ']' )\n",
        "\n",
        "# this was quite hectic work. so we use FORMATED string \n",
        "\n",
        "msg = f'{first} {last} will be a [coder]'     # curly braces for dynamically insert values"
      ],
      "execution_count": 40,
      "outputs": [
        {
          "output_type": "stream",
          "text": [
            "hesham tarique will be a [coder]\n"
          ],
          "name": "stdout"
        }
      ]
    },
    {
      "cell_type": "code",
      "metadata": {
        "colab": {
          "base_uri": "https://localhost:8080/"
        },
        "id": "DErMCSA9kroW",
        "outputId": "29dd3d57-1afc-420f-9dc5-c61050433bcb"
      },
      "source": [
        "print(len(msg))"
      ],
      "execution_count": 41,
      "outputs": [
        {
          "output_type": "stream",
          "text": [
            "32\n"
          ],
          "name": "stdout"
        }
      ]
    },
    {
      "cell_type": "code",
      "metadata": {
        "colab": {
          "base_uri": "https://localhost:8080/"
        },
        "id": "oqcrXJvQrx7e",
        "outputId": "ee01f949-f009-4a01-98de-c411283af514"
      },
      "source": [
        "# if we want to make my sentence in upper case -- this don't modify the original msg \n",
        "print(msg.upper())\n",
        "print(msg.lower())"
      ],
      "execution_count": 46,
      "outputs": [
        {
          "output_type": "stream",
          "text": [
            "HESHAM TARIQUE WILL BE A [CODER]\n",
            "hesham tarique will be a [coder]\n"
          ],
          "name": "stdout"
        }
      ]
    },
    {
      "cell_type": "code",
      "metadata": {
        "colab": {
          "base_uri": "https://localhost:8080/"
        },
        "id": "Zv6iHmBcsBgT",
        "outputId": "f114d117-512b-4747-a7f6-ad30fbe4c12b"
      },
      "source": [
        "print(msg.find('i'))    # index of first i will be displayed\n",
        "print(msg.find('S'))    # S is not present so it gave -1"
      ],
      "execution_count": 50,
      "outputs": [
        {
          "output_type": "stream",
          "text": [
            "10\n",
            "-1\n"
          ],
          "name": "stdout"
        }
      ]
    },
    {
      "cell_type": "code",
      "metadata": {
        "colab": {
          "base_uri": "https://localhost:8080/"
        },
        "id": "tUINXiuktD61",
        "outputId": "838908b6-ec0a-4f79-a3c4-d6bd185d8589"
      },
      "source": [
        "print(msg.replace('coder', 'fluent coder'))"
      ],
      "execution_count": 51,
      "outputs": [
        {
          "output_type": "stream",
          "text": [
            "hesham tarique will be a [fluent coder]\n"
          ],
          "name": "stdout"
        }
      ]
    },
    {
      "cell_type": "code",
      "metadata": {
        "colab": {
          "base_uri": "https://localhost:8080/"
        },
        "id": "fkpVQLvouLhl",
        "outputId": "5fe4396c-e95b-42fd-b4af-86496c7d6b6c"
      },
      "source": [
        "'python' in msg"
      ],
      "execution_count": 52,
      "outputs": [
        {
          "output_type": "execute_result",
          "data": {
            "text/plain": [
              "False"
            ]
          },
          "metadata": {
            "tags": []
          },
          "execution_count": 52
        }
      ]
    },
    {
      "cell_type": "code",
      "metadata": {
        "colab": {
          "base_uri": "https://localhost:8080/"
        },
        "id": "qSR0FWxZugL4",
        "outputId": "38604e70-a245-40bc-ce57-f5c4a68742ed"
      },
      "source": [
        "'hesham' in msg       # find operator return index while \"in\" operator produces boolean value- yes no"
      ],
      "execution_count": 53,
      "outputs": [
        {
          "output_type": "execute_result",
          "data": {
            "text/plain": [
              "True"
            ]
          },
          "metadata": {
            "tags": []
          },
          "execution_count": 53
        }
      ]
    },
    {
      "cell_type": "code",
      "metadata": {
        "id": "cnwfiLpAyUZH"
      },
      "source": [
        ""
      ],
      "execution_count": null,
      "outputs": []
    }
  ]
}